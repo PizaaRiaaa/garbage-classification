{
 "cells": [
  {
   "cell_type": "markdown",
   "id": "ivUXM07C2lfE",
   "metadata": {
    "id": "ivUXM07C2lfE"
   },
   "source": [
    "**Step 1** : load the libraries using the import libraries"
   ]
  },
  {
   "cell_type": "markdown",
   "id": "hr6tEp_X-IKJ",
   "metadata": {
    "id": "hr6tEp_X-IKJ"
   },
   "source": [
    "1. ``import tensorflow as tf`` - - Tensorflow is imported as *tf*. It automates data collection, tracks models, monitors performance, and retains models using best practices. It is a multiple-machine learning library that is open-sourced and can be used end-to-end.\n",
    "\n",
    "2. ``from tensorflow import keras`` - It is a high-level neural library that runs on TensorFlow. Similar to TensorFlow, Keras provides APIs to build and train models. It has a Python built-in that makes it more user-friendly.\n",
    "\n",
    "3. ``from tensorflow.keras.models import Sequential`` - The input_shape argument is used to help define the layers that will be in the network as the function executes and creates each layer.  \n",
    "\n",
    "4. ``from tensorflow.keras.layers import Dense, Conv2D, Flatten, Dropout, MaxPooling2D`` - A ``dense`` layer is used when any features can be associated with any other featuree in a data point. If nearby associations among features are important, such as when detecting objects, these ``conv`` layer are important. for classfying or detecting,neighboorhoods matter. Pixels at the opposite corners can be helpful. A ``flatten`` layer is used when you need to linearize a multidimensional output to pass it into a dense layer. ``Dropouts`` reduce too mmuch association between features by dropping weights.\n",
    "\n",
    "\n",
    "5. ``from tensorflow.keras.preprocessing.image import ImageDataGenerator`` - In image augmentation, different transformmmation are applied to original images to create mmultiple tranformed copies. Using the Keras ``ImageDataGenerator``class, yit can easily enhance the immages using a variety of techniques such as rotation, standardization, shifts, brightness, flips, and more. \n",
    "\n",
    "6. ``from PIL import Image`` - with PIL. you can open, manipulate, and save a wide range of image file formmmats using the Python programmming language. It is a free, open-source library that supports many different image formats.\n",
    "\n",
    "7. ``from pathlib import Path`` - Path is one of the most important classes provided by the pathlib module. It represents a path to a directory or file on our computer's file system. \n",
    "\n",
    "8. ``import os`` - It allows to create and remove directories, fetch contenst, change the current directory, and more. Importing OS module is the first step in interacting with the underlying operating system.\n",
    "\n",
    "9. ``import numpy as np`` - NumPy is imported as *np*. It is a general-purpose package for handling arrays. It is the core package for using Python in scientific computing. `` -\n",
    "\n",
    "10. ``import matplotlib.pyplot as plt`` - Pyplot is imported as *plt*. The Matplotlib library provides graphical plotting capabilities and data visualization in Pythion and NumPy, Their numerical extension. \n",
    "\n",
    "10. ``from torchvision.datasets import ImageFolder`` - Deep learning model uses ImageFolder class to load images from our train and val folders into a PyThorch dataset. \n",
    "\n",
    "10. ``import torchvision.transforms as T`` - it allows to change brightness, contrast, saturation, and hu of an image randomly. Also, cropping the image with four corners and acentral crop. lastly, converting the image to grayscale.\n",
    "\n",
    "5. ``print (\"Done with declaration. Current version of Tenserflow :\", tf.__version__)`` - It allows to print <b>*Done with the library declaration. Current version of Tenserflow is 2.8.2* </b>"
   ]
  },
  {
   "cell_type": "code",
   "execution_count": 2,
   "id": "1258038f",
   "metadata": {
    "id": "1258038f",
    "outputId": "9adbfe1e-bf28-47e5-d511-2a8d9b4394a8"
   },
   "outputs": [
    {
     "name": "stdout",
     "output_type": "stream",
     "text": [
      "Done with library declaration, Current version of Tensorflow is:  2.10.0\n"
     ]
    }
   ],
   "source": [
    "import tensorflow as tf\n",
    "from tensorflow import keras\n",
    "from tensorflow.keras.models import Sequential\n",
    "from tensorflow.keras.layers import Dense, Conv2D, Flatten, Dropout, MaxPooling2D\n",
    "from tensorflow.keras.preprocessing.image import ImageDataGenerator\n",
    "from PIL import Image\n",
    "from pathlib import Path\n",
    "import os\n",
    "import numpy as np\n",
    "import matplotlib.pyplot as plt\n",
    "from torchvision.datasets import ImageFolder\n",
    "import torchvision.transforms as T\n",
    "\n",
    "print(\"Done with library declaration, Current version of Tensorflow is: \", tf.__version__)"
   ]
  },
  {
   "cell_type": "markdown",
   "id": "AyqUNyGo2xqU",
   "metadata": {
    "id": "AyqUNyGo2xqU"
   },
   "source": [
    "**Step 2** : Load and transform data. "
   ]
  },
  {
   "cell_type": "markdown",
   "id": "QtLA4urmH2DL",
   "metadata": {
    "id": "QtLA4urmH2DL"
   },
   "source": [
    "1. ``data_dir = Path('Garbage')`` - Data directories identify master sources of data as as replicas of the data in a distrbuted database. In this case, the path will be ***Garbage***.\n",
    "\n",
    "2. ``transformer = T.Compose([T.Resize((32, 32)), T.ToTensor()])`` - It allows to resize the imagee to 32 x 32 pixels and the ToTensor converts preprocessed images into Neural Networks. \n",
    "\n",
    "3. ``dataset = ImageFolder(data_dir, transform = transformer)`` - Assigned the transform images to the dataset. The ImageFolder class to allows to load the images from our train and val folders into a PyThorch dataset.\n",
    "\n",
    "4. ``print(dataset.classes)`` - It allows to print the classes in the dataset. Classes: ***cardboard***, ***glass***, ***metal***, ***paper***, ***plastic***, and ***trash***."
   ]
  },
  {
   "cell_type": "code",
   "execution_count": 4,
   "id": "03b16a0a",
   "metadata": {
    "id": "03b16a0a",
    "outputId": "24909e0f-0042-4ff5-a1a7-cdeec7c77558"
   },
   "outputs": [
    {
     "ename": "FileNotFoundError",
     "evalue": "[WinError 3] The system cannot find the path specified: 'Garbage\\\\original_images'",
     "output_type": "error",
     "traceback": [
      "\u001b[1;31m---------------------------------------------------------------------------\u001b[0m",
      "\u001b[1;31mFileNotFoundError\u001b[0m                         Traceback (most recent call last)",
      "Cell \u001b[1;32mIn [4], line 5\u001b[0m\n\u001b[0;32m      2\u001b[0m data_dir \u001b[38;5;241m=\u001b[39m Path(\u001b[38;5;124m'\u001b[39m\u001b[38;5;124mGarbage\u001b[39m\u001b[38;5;124m\\\u001b[39m\u001b[38;5;124moriginal_images\u001b[39m\u001b[38;5;124m'\u001b[39m)\n\u001b[0;32m      4\u001b[0m transformer \u001b[38;5;241m=\u001b[39m T\u001b[38;5;241m.\u001b[39mCompose([T\u001b[38;5;241m.\u001b[39mResize((\u001b[38;5;241m32\u001b[39m, \u001b[38;5;241m32\u001b[39m)), T\u001b[38;5;241m.\u001b[39mToTensor()])\n\u001b[1;32m----> 5\u001b[0m dataset \u001b[38;5;241m=\u001b[39m ImageFolder(data_dir, transform \u001b[38;5;241m=\u001b[39m transformer)\n\u001b[0;32m      7\u001b[0m \u001b[38;5;66;03m# display class names\u001b[39;00m\n\u001b[0;32m      8\u001b[0m \u001b[38;5;28mprint\u001b[39m(dataset\u001b[38;5;241m.\u001b[39mclasses)\n",
      "File \u001b[1;32m~\\AppData\\Local\\Packages\\PythonSoftwareFoundation.Python.3.10_qbz5n2kfra8p0\\LocalCache\\local-packages\\Python310\\site-packages\\torchvision\\datasets\\folder.py:310\u001b[0m, in \u001b[0;36mImageFolder.__init__\u001b[1;34m(self, root, transform, target_transform, loader, is_valid_file)\u001b[0m\n\u001b[0;32m    302\u001b[0m \u001b[38;5;28;01mdef\u001b[39;00m \u001b[38;5;21m__init__\u001b[39m(\n\u001b[0;32m    303\u001b[0m     \u001b[38;5;28mself\u001b[39m,\n\u001b[0;32m    304\u001b[0m     root: \u001b[38;5;28mstr\u001b[39m,\n\u001b[1;32m   (...)\u001b[0m\n\u001b[0;32m    308\u001b[0m     is_valid_file: Optional[Callable[[\u001b[38;5;28mstr\u001b[39m], \u001b[38;5;28mbool\u001b[39m]] \u001b[38;5;241m=\u001b[39m \u001b[38;5;28;01mNone\u001b[39;00m,\n\u001b[0;32m    309\u001b[0m ):\n\u001b[1;32m--> 310\u001b[0m     \u001b[38;5;28;43msuper\u001b[39;49m\u001b[43m(\u001b[49m\u001b[43m)\u001b[49m\u001b[38;5;241;43m.\u001b[39;49m\u001b[38;5;21;43m__init__\u001b[39;49m\u001b[43m(\u001b[49m\n\u001b[0;32m    311\u001b[0m \u001b[43m        \u001b[49m\u001b[43mroot\u001b[49m\u001b[43m,\u001b[49m\n\u001b[0;32m    312\u001b[0m \u001b[43m        \u001b[49m\u001b[43mloader\u001b[49m\u001b[43m,\u001b[49m\n\u001b[0;32m    313\u001b[0m \u001b[43m        \u001b[49m\u001b[43mIMG_EXTENSIONS\u001b[49m\u001b[43m \u001b[49m\u001b[38;5;28;43;01mif\u001b[39;49;00m\u001b[43m \u001b[49m\u001b[43mis_valid_file\u001b[49m\u001b[43m \u001b[49m\u001b[38;5;129;43;01mis\u001b[39;49;00m\u001b[43m \u001b[49m\u001b[38;5;28;43;01mNone\u001b[39;49;00m\u001b[43m \u001b[49m\u001b[38;5;28;43;01melse\u001b[39;49;00m\u001b[43m \u001b[49m\u001b[38;5;28;43;01mNone\u001b[39;49;00m\u001b[43m,\u001b[49m\n\u001b[0;32m    314\u001b[0m \u001b[43m        \u001b[49m\u001b[43mtransform\u001b[49m\u001b[38;5;241;43m=\u001b[39;49m\u001b[43mtransform\u001b[49m\u001b[43m,\u001b[49m\n\u001b[0;32m    315\u001b[0m \u001b[43m        \u001b[49m\u001b[43mtarget_transform\u001b[49m\u001b[38;5;241;43m=\u001b[39;49m\u001b[43mtarget_transform\u001b[49m\u001b[43m,\u001b[49m\n\u001b[0;32m    316\u001b[0m \u001b[43m        \u001b[49m\u001b[43mis_valid_file\u001b[49m\u001b[38;5;241;43m=\u001b[39;49m\u001b[43mis_valid_file\u001b[49m\u001b[43m,\u001b[49m\n\u001b[0;32m    317\u001b[0m \u001b[43m    \u001b[49m\u001b[43m)\u001b[49m\n\u001b[0;32m    318\u001b[0m     \u001b[38;5;28mself\u001b[39m\u001b[38;5;241m.\u001b[39mimgs \u001b[38;5;241m=\u001b[39m \u001b[38;5;28mself\u001b[39m\u001b[38;5;241m.\u001b[39msamples\n",
      "File \u001b[1;32m~\\AppData\\Local\\Packages\\PythonSoftwareFoundation.Python.3.10_qbz5n2kfra8p0\\LocalCache\\local-packages\\Python310\\site-packages\\torchvision\\datasets\\folder.py:145\u001b[0m, in \u001b[0;36mDatasetFolder.__init__\u001b[1;34m(self, root, loader, extensions, transform, target_transform, is_valid_file)\u001b[0m\n\u001b[0;32m    135\u001b[0m \u001b[38;5;28;01mdef\u001b[39;00m \u001b[38;5;21m__init__\u001b[39m(\n\u001b[0;32m    136\u001b[0m     \u001b[38;5;28mself\u001b[39m,\n\u001b[0;32m    137\u001b[0m     root: \u001b[38;5;28mstr\u001b[39m,\n\u001b[1;32m   (...)\u001b[0m\n\u001b[0;32m    142\u001b[0m     is_valid_file: Optional[Callable[[\u001b[38;5;28mstr\u001b[39m], \u001b[38;5;28mbool\u001b[39m]] \u001b[38;5;241m=\u001b[39m \u001b[38;5;28;01mNone\u001b[39;00m,\n\u001b[0;32m    143\u001b[0m ) \u001b[38;5;241m-\u001b[39m\u001b[38;5;241m>\u001b[39m \u001b[38;5;28;01mNone\u001b[39;00m:\n\u001b[0;32m    144\u001b[0m     \u001b[38;5;28msuper\u001b[39m()\u001b[38;5;241m.\u001b[39m\u001b[38;5;21m__init__\u001b[39m(root, transform\u001b[38;5;241m=\u001b[39mtransform, target_transform\u001b[38;5;241m=\u001b[39mtarget_transform)\n\u001b[1;32m--> 145\u001b[0m     classes, class_to_idx \u001b[38;5;241m=\u001b[39m \u001b[38;5;28;43mself\u001b[39;49m\u001b[38;5;241;43m.\u001b[39;49m\u001b[43mfind_classes\u001b[49m\u001b[43m(\u001b[49m\u001b[38;5;28;43mself\u001b[39;49m\u001b[38;5;241;43m.\u001b[39;49m\u001b[43mroot\u001b[49m\u001b[43m)\u001b[49m\n\u001b[0;32m    146\u001b[0m     samples \u001b[38;5;241m=\u001b[39m \u001b[38;5;28mself\u001b[39m\u001b[38;5;241m.\u001b[39mmake_dataset(\u001b[38;5;28mself\u001b[39m\u001b[38;5;241m.\u001b[39mroot, class_to_idx, extensions, is_valid_file)\n\u001b[0;32m    148\u001b[0m     \u001b[38;5;28mself\u001b[39m\u001b[38;5;241m.\u001b[39mloader \u001b[38;5;241m=\u001b[39m loader\n",
      "File \u001b[1;32m~\\AppData\\Local\\Packages\\PythonSoftwareFoundation.Python.3.10_qbz5n2kfra8p0\\LocalCache\\local-packages\\Python310\\site-packages\\torchvision\\datasets\\folder.py:219\u001b[0m, in \u001b[0;36mDatasetFolder.find_classes\u001b[1;34m(self, directory)\u001b[0m\n\u001b[0;32m    192\u001b[0m \u001b[38;5;28;01mdef\u001b[39;00m \u001b[38;5;21mfind_classes\u001b[39m(\u001b[38;5;28mself\u001b[39m, directory: \u001b[38;5;28mstr\u001b[39m) \u001b[38;5;241m-\u001b[39m\u001b[38;5;241m>\u001b[39m Tuple[List[\u001b[38;5;28mstr\u001b[39m], Dict[\u001b[38;5;28mstr\u001b[39m, \u001b[38;5;28mint\u001b[39m]]:\n\u001b[0;32m    193\u001b[0m     \u001b[38;5;124;03m\"\"\"Find the class folders in a dataset structured as follows::\u001b[39;00m\n\u001b[0;32m    194\u001b[0m \n\u001b[0;32m    195\u001b[0m \u001b[38;5;124;03m        directory/\u001b[39;00m\n\u001b[1;32m   (...)\u001b[0m\n\u001b[0;32m    217\u001b[0m \u001b[38;5;124;03m        (Tuple[List[str], Dict[str, int]]): List of all classes and dictionary mapping each class to an index.\u001b[39;00m\n\u001b[0;32m    218\u001b[0m \u001b[38;5;124;03m    \"\"\"\u001b[39;00m\n\u001b[1;32m--> 219\u001b[0m     \u001b[38;5;28;01mreturn\u001b[39;00m \u001b[43mfind_classes\u001b[49m\u001b[43m(\u001b[49m\u001b[43mdirectory\u001b[49m\u001b[43m)\u001b[49m\n",
      "File \u001b[1;32m~\\AppData\\Local\\Packages\\PythonSoftwareFoundation.Python.3.10_qbz5n2kfra8p0\\LocalCache\\local-packages\\Python310\\site-packages\\torchvision\\datasets\\folder.py:41\u001b[0m, in \u001b[0;36mfind_classes\u001b[1;34m(directory)\u001b[0m\n\u001b[0;32m     36\u001b[0m \u001b[38;5;28;01mdef\u001b[39;00m \u001b[38;5;21mfind_classes\u001b[39m(directory: \u001b[38;5;28mstr\u001b[39m) \u001b[38;5;241m-\u001b[39m\u001b[38;5;241m>\u001b[39m Tuple[List[\u001b[38;5;28mstr\u001b[39m], Dict[\u001b[38;5;28mstr\u001b[39m, \u001b[38;5;28mint\u001b[39m]]:\n\u001b[0;32m     37\u001b[0m     \u001b[38;5;124;03m\"\"\"Finds the class folders in a dataset.\u001b[39;00m\n\u001b[0;32m     38\u001b[0m \n\u001b[0;32m     39\u001b[0m \u001b[38;5;124;03m    See :class:`DatasetFolder` for details.\u001b[39;00m\n\u001b[0;32m     40\u001b[0m \u001b[38;5;124;03m    \"\"\"\u001b[39;00m\n\u001b[1;32m---> 41\u001b[0m     classes \u001b[38;5;241m=\u001b[39m \u001b[38;5;28msorted\u001b[39m(entry\u001b[38;5;241m.\u001b[39mname \u001b[38;5;28;01mfor\u001b[39;00m entry \u001b[38;5;129;01min\u001b[39;00m \u001b[43mos\u001b[49m\u001b[38;5;241;43m.\u001b[39;49m\u001b[43mscandir\u001b[49m\u001b[43m(\u001b[49m\u001b[43mdirectory\u001b[49m\u001b[43m)\u001b[49m \u001b[38;5;28;01mif\u001b[39;00m entry\u001b[38;5;241m.\u001b[39mis_dir())\n\u001b[0;32m     42\u001b[0m     \u001b[38;5;28;01mif\u001b[39;00m \u001b[38;5;129;01mnot\u001b[39;00m classes:\n\u001b[0;32m     43\u001b[0m         \u001b[38;5;28;01mraise\u001b[39;00m \u001b[38;5;167;01mFileNotFoundError\u001b[39;00m(\u001b[38;5;124mf\u001b[39m\u001b[38;5;124m\"\u001b[39m\u001b[38;5;124mCouldn\u001b[39m\u001b[38;5;124m'\u001b[39m\u001b[38;5;124mt find any class folder in \u001b[39m\u001b[38;5;132;01m{\u001b[39;00mdirectory\u001b[38;5;132;01m}\u001b[39;00m\u001b[38;5;124m.\u001b[39m\u001b[38;5;124m\"\u001b[39m)\n",
      "\u001b[1;31mFileNotFoundError\u001b[0m: [WinError 3] The system cannot find the path specified: 'Garbage\\\\original_images'"
     ]
    }
   ],
   "source": [
    "# collect directory\n",
    "data_dir = Path('Garbage\\original_images')\n",
    "\n",
    "transformer = T.Compose([T.Resize((32, 32)), T.ToTensor()])\n",
    "dataset = ImageFolder(data_dir, transform = transformer)\n",
    "\n",
    "# display class names\n",
    "print(dataset.classes)"
   ]
  },
  {
   "cell_type": "markdown",
   "id": "NGYD42WOXF42",
   "metadata": {
    "id": "NGYD42WOXF42"
   },
   "source": [
    "\n",
    "1. ``fig = plt.figure()`` - function is to create a figure object. When the figure's size needs to be tweaked and more than one axes object needs to be added to a figure, we must explicity use plt.figure(). \n",
    "\n",
    "2. ``ax = fig.add_axes([0,0,1,1])`` - It allows to plot the data for the classes. The dimension is set to ***0,0,1,1*** the first two array **0,0** are the horizontal and vertical coordinate of the lower left corner. The ***1,1*** are the width and height of the subplot.\n",
    "\n",
    "3. ``counts = [393,491,400]`` - It is used to set the total counts of each class in the database. in this case we have six classes.\n",
    "\n",
    "4. ``ax.bar(dataset.classes,counts)`` - It is used for bar plot. the range of classes can be shown here in a barplot\n",
    "\n",
    "5. ``plt.title('Class Distribution')`` - It allows to set a title ***Class Distribution*** for the figure. It can be found on the upper side. \n",
    "\n",
    "6. ``plt.show()`` - is the pyplot module of the matplotlob library, this function allows all figures to be displayed. In this case, the total counts of all classes in the dataset will be displayed. It also helps to visualize more easily."
   ]
  },
  {
   "cell_type": "markdown",
   "id": "Bh5YyuyE5Lu8",
   "metadata": {
    "id": "Bh5YyuyE5Lu8"
   },
   "source": [
    "<h2> About Dataset\n",
    "\n",
    "The six classification included in the **Garbage Classification Dataset** are: \n",
    "1.   cardboard (393) \n",
    "2.   glass (491)\n",
    "3.   metal (400)\n",
    "4.   paper(584)\n",
    "5.   plastic (472)\n",
    "6.   trash(127)\n",
    "<br> \n",
    "\n",
    "The objective is to train the model to be able to predict the input images based on the provided classifications.\n",
    "\n",
    "\n",
    "\n",
    "\n",
    "\n"
   ]
  },
  {
   "cell_type": "markdown",
   "id": "zRjIuMJZ3eV9",
   "metadata": {
    "id": "zRjIuMJZ3eV9"
   },
   "source": [
    "**Step 3** : Plot and inspect the classes in the data. "
   ]
  },
  {
   "cell_type": "code",
   "execution_count": null,
   "id": "598c6649",
   "metadata": {
    "id": "598c6649",
    "outputId": "837c87a9-905f-4810-9492-1a5262d755f5"
   },
   "outputs": [
    {
     "data": {
      "image/png": "[encoded data removed]",
      "text/plain": [
       "<Figure size 640x480 with 1 Axes>"
      ]
     },
     "metadata": {},
     "output_type": "display_data"
    }
   ],
   "source": [
    "# display class distribution\n",
    "fig = plt.figure()\n",
    "ax = fig.add_axes([0,0,1,1])\n",
    "counts = [393,491,400]\n",
    "ax.bar(dataset.classes,counts)\n",
    "plt.title('Class Distribution')\n",
    "plt.show()"
   ]
  },
  {
   "cell_type": "markdown",
   "id": "-7dGgUWzdb5k",
   "metadata": {
    "id": "-7dGgUWzdb5k"
   },
   "source": [
    "1. ``PATH_TRAIN = r\"Garbage\"`` - The train data used will come from garbage file images.\n",
    "2. ``PATH_TEST = r\"ProcessedImage\"`` - The test data used will come from processed images. \n",
    "3. ``class_names = ['cardboard', 'glass', 'metal']`` - Will set all the classes in the class_names so that every time it is called it will return specific classes in the dataset\n",
    "\n",
    "4. ``imagepath_cardboard = r\"Garbage\\cardboard\"`` - The cardboard class is assigned to imagepath_cardboard.\n",
    "5. ``graypath_cardboard = r\"ProcessedImage\\cardboard\"`` - The processed image of cardboard class is assigned to graypath_cardboard.\n",
    "\n",
    "6. ``File_listing = os.listdir(imagepath_cardboard)`` <br>\n",
    "  ``for file in File_listing:`` - The os module provides a function which lists all the files in the specified path using the names provided by the fuction. In this case the specified is ***imagepath_cardboard***. With the use ``im.resize and img.convert`` functio, the cardboard images is resize by 32 x 32 pixels and in grayscale. \n",
    "\n",
    "\n"
   ]
  },
  {
   "cell_type": "markdown",
   "id": "Rv8FE-4Z3XhV",
   "metadata": {
    "id": "Rv8FE-4Z3XhV"
   },
   "source": [
    "**Step 4** : Split and store the data into train and test data. "
   ]
  },
  {
   "cell_type": "code",
   "execution_count": null,
   "id": "90282619",
   "metadata": {
    "id": "90282619"
   },
   "outputs": [],
   "source": [
    "PATH_TRAIN = r\"Garbage\"\n",
    "PATH_TEST = r\"ProcessedImage\"\n",
    "class_names = ['cardboard', 'glass', 'metal']\n",
    "\n",
    "imagepath_cardboard = r\"Garbage\\cardboard\"\n",
    "graypath_cardboard = r\"ProcessedImage\\cardboard\"\n",
    "File_listing = os.listdir(imagepath_cardboard)\n",
    "for file in File_listing:\n",
    "    im = Image.open(imagepath_cardboard + '\\\\' + file) \n",
    "    img = im.resize((32,32))\n",
    "    gray = img.convert('L')\n",
    "    gray.save(graypath_cardboard + '\\\\' + file, \"JPEG\")"
   ]
  },
  {
   "cell_type": "code",
   "execution_count": null,
   "id": "0ea011fa",
   "metadata": {
    "id": "0ea011fa"
   },
   "outputs": [],
   "source": [
    "imagepath_glass = r\"Garbage\\glass\"\n",
    "graypath_glass = r\"ProcessedImage\\glass\"\n",
    "File_listing = os.listdir(imagepath_glass)\n",
    "for file in File_listing:\n",
    "    im = Image.open(imagepath_glass + '\\\\' + file) \n",
    "    img = im.resize((32,32))\n",
    "    gray = img.convert('L')\n",
    "    gray.save(graypath_glass + '\\\\' + file, \"JPEG\")"
   ]
  },
  {
   "cell_type": "code",
   "execution_count": null,
   "id": "aaa6303a",
   "metadata": {
    "id": "aaa6303a"
   },
   "outputs": [],
   "source": [
    "imagepath_metal = r\"Garbage\\metal\"\n",
    "graypath_metal = r\"ProcessedImage\\metal\"\n",
    "File_listing = os.listdir(imagepath_metal)\n",
    "for file in File_listing:\n",
    "    im = Image.open(imagepath_metal + '\\\\' + file) \n",
    "    img = im.resize((32,32))\n",
    "    gray = img.convert('L')\n",
    "    gray.save(graypath_metal + '\\\\' + file, \"JPEG\")"
   ]
  },
  {
   "cell_type": "markdown",
   "id": "_NWniB5Vhw03",
   "metadata": {
    "id": "_NWniB5Vhw03"
   },
   "source": [
    "1. ``train_dir = os.path.join(PATH_TRAIN)`` <br>\n",
    "``test_dir = os.path.join(PATH_TEST)`` <br> \n",
    "- The dataset is divided into two groups: the train data and the test data. The train data is where we teach the machine learning algorithm to predict specific images, while the test data is where we validate the algorithm's progress."
   ]
  },
  {
   "cell_type": "code",
   "execution_count": null,
   "id": "ba8e1a87",
   "metadata": {
    "id": "ba8e1a87"
   },
   "outputs": [],
   "source": [
    "train_dir = os.path.join(PATH_TRAIN)\n",
    "test_dir = os.path.join(PATH_TEST)"
   ]
  },
  {
   "cell_type": "markdown",
   "id": "Whjad73ljwBF",
   "metadata": {
    "id": "Whjad73ljwBF"
   },
   "source": [
    "1. ``os.path.join`` - is a Python submodule of OS used for common pathname manipulation and provides a portable way o levergae operating system dependent functionality. In this case, we will use it in every class that our dataset has. for example, the ***imagepath_cardboard*** will intelligently join the path components which is the ***imagepath_cardboard_dir***."
   ]
  },
  {
   "cell_type": "code",
   "execution_count": null,
   "id": "70e53a9d",
   "metadata": {
    "id": "70e53a9d"
   },
   "outputs": [],
   "source": [
    "imagepath_cardboard_dir = os.path.join(imagepath_cardboard)\n",
    "imagepath_glass_dir = os.path.join(imagepath_glass)\n",
    "imagepath_metal_dir = os.path.join(imagepath_metal)"
   ]
  },
  {
   "cell_type": "markdown",
   "id": "goo76aRSlzW5",
   "metadata": {
    "id": "goo76aRSlzW5"
   },
   "source": [
    "1. ``len(os.listdir(PATH_TRAIN))`` - it allows to display the list of file in the  ***PATH_TRAIN***. It returns the total count of the list in the specified path. "
   ]
  },
  {
   "cell_type": "code",
   "execution_count": null,
   "id": "f02e1341",
   "metadata": {
    "id": "f02e1341",
    "outputId": "6621f9e9-4049-4953-aa0b-18a8e42ba7e6"
   },
   "outputs": [
    {
     "data": {
      "text/plain": [
       "3"
      ]
     },
     "execution_count": 174,
     "metadata": {},
     "output_type": "execute_result"
    }
   ],
   "source": [
    "len(os.listdir(PATH_TRAIN))"
   ]
  },
  {
   "cell_type": "markdown",
   "id": "mbQ6iOsjmZCw",
   "metadata": {
    "id": "mbQ6iOsjmZCw"
   },
   "source": [
    "1. ``IMG_HEIGHT = 32`` <br>\n",
    "``IMG_WIDTH = 32`` <br>\n",
    "``batch_size = 32 `` -<br> \n",
    "- It allows to set the image height, width, and the batch_size to 32. \n",
    "\n"
   ]
  },
  {
   "cell_type": "code",
   "execution_count": null,
   "id": "ca5cd7ca",
   "metadata": {
    "id": "ca5cd7ca"
   },
   "outputs": [],
   "source": [
    "IMG_HEIGHT = 32\n",
    "IMG_WIDTH = 32\n",
    "bath_size = 32"
   ]
  },
  {
   "cell_type": "markdown",
   "id": "oPzPsBHPnNVm",
   "metadata": {
    "id": "oPzPsBHPnNVm"
   },
   "source": [
    "1. ``image_gen = ImageDataGenerator(rescale=1./255)`` - Using the Keras ImageDataGeneratorclass, it can easily transform the image to range from range ***0,255*** to ***0,1***"
   ]
  },
  {
   "cell_type": "code",
   "execution_count": null,
   "id": "8e670d39",
   "metadata": {
    "id": "8e670d39"
   },
   "outputs": [],
   "source": [
    "image_gen = ImageDataGenerator(rescale=1./255)"
   ]
  },
  {
   "cell_type": "markdown",
   "id": "faTngSr3oEPT",
   "metadata": {
    "id": "faTngSr3oEPT"
   },
   "source": [
    "1. the train folder contain a single folder inside which all the train images are present. Here are the most commonly used attributes along with the ``flow_from_directory()`` method. The ``directory`` where the classes of folders are present. We set the shuffle to ***true*** to shuffle the order of the images. The ``target_size``which we set the input image to ***32 x 32*** pixels. lastly, the ``class_mode`` where we set to ***categorical*** because we have more than two classes in the dataset."
   ]
  },
  {
   "cell_type": "code",
   "execution_count": null,
   "id": "aaf491b1",
   "metadata": {
    "id": "aaf491b1",
    "outputId": "b3cd7ce9-d7a8-45e5-dd87-b3fda86223ec"
   },
   "outputs": [
    {
     "name": "stdout",
     "output_type": "stream",
     "text": [
      "Found 1314 images belonging to 3 classes.\n"
     ]
    }
   ],
   "source": [
    "train_data_gen = image_gen.flow_from_directory(\n",
    "    directory = train_dir, \n",
    "    shuffle=True, \n",
    "    target_size = (IMG_HEIGHT, IMG_WIDTH),\n",
    "    class_mode='categorical')"
   ]
  },
  {
   "cell_type": "markdown",
   "id": "pFCWmAVcvO3O",
   "metadata": {
    "id": "pFCWmAVcvO3O"
   },
   "source": [
    "1. Same as above, the test folder contain a single folder inside which all the test images are present. Here are the most commonly used attributes along with the ``flow_from_directory()`` method. The ``directory`` where the classes of folders are present. We set the shuffle to ***true*** to shuffle the order of the images. The ``target_size``which we set the input image to ***32 x 32*** pixels. lastly, the ``class_mode`` where we set to ***categorical*** because we have more than two classes in the dataset."
   ]
  },
  {
   "cell_type": "code",
   "execution_count": null,
   "id": "8c76648f",
   "metadata": {
    "id": "8c76648f",
    "outputId": "7e7cbf53-aa36-4656-cecd-68d34e0e9a61"
   },
   "outputs": [
    {
     "name": "stdout",
     "output_type": "stream",
     "text": [
      "Found 1314 images belonging to 3 classes.\n"
     ]
    }
   ],
   "source": [
    "test_data_gen = image_gen.flow_from_directory(\n",
    "    directory = test_dir, \n",
    "    shuffle=True, \n",
    "    target_size = (IMG_HEIGHT, IMG_WIDTH),\n",
    "    class_mode='categorical')"
   ]
  },
  {
   "cell_type": "code",
   "execution_count": null,
   "id": "b6922c77",
   "metadata": {
    "id": "b6922c77"
   },
   "outputs": [],
   "source": [
    "sample_training_images, _= next(train_data_gen)"
   ]
  },
  {
   "cell_type": "markdown",
   "id": "xY41ehWXwGi3",
   "metadata": {
    "id": "xY41ehWXwGi3"
   },
   "source": [
    "1.  The ``plotImages`` function is to create a figure object. When the figure's size needs to be tweaked and more than one axes object needs to be added to a figure, we must explicity use plt.figure(). This ``(figsize=(20,20))`` function allows to set the size of the figure, In this case the figure is set by ***20:20*** ratio. Also, The ``ax.imshow`` display the image in 2D regualr raster. The ``axes.flatten()`` it returns the flattened version of the array. The ``plt.show()`` is the pyplot allows all sets figures to be displayed. "
   ]
  },
  {
   "cell_type": "markdown",
   "id": "5rWM6CJc4EoW",
   "metadata": {
    "id": "5rWM6CJc4EoW"
   },
   "source": [
    "**Step 5** : Display and examine the images from the dataset."
   ]
  },
  {
   "cell_type": "code",
   "execution_count": null,
   "id": "8f99b380",
   "metadata": {
    "id": "8f99b380"
   },
   "outputs": [],
   "source": [
    "#plt.figure()\n",
    "#plt.imshow(sample_training_images[0])\n",
    "#plt.show()\n",
    "\n",
    "def plotImages(images_arr):\n",
    "    fig, axes = plt.subplots(1, 3, figsize=(20,20))\n",
    "    axes = axes.flatten()\n",
    "    for img, ax in zip(images_arr, axes):\n",
    "        ax.imshow(img)\n",
    "        ax.axis('off')\n",
    "    plt.tight_layout()\n",
    "    plt.show()\n"
   ]
  },
  {
   "cell_type": "code",
   "execution_count": null,
   "id": "8da68b75",
   "metadata": {
    "id": "8da68b75",
    "outputId": "62fda88e-0fd6-4650-a657-c615e55038fd"
   },
   "outputs": [
    {
     "data": {
      "image/png": "[encoded data removed]",
      "text/plain": [
       "<Figure size 2000x2000 with 3 Axes>"
      ]
     },
     "metadata": {},
     "output_type": "display_data"
    }
   ],
   "source": [
    "plotImages(sample_training_images[:3])"
   ]
  },
  {
   "cell_type": "markdown",
   "id": "x88IvOJs4RRJ",
   "metadata": {
    "id": "x88IvOJs4RRJ"
   },
   "source": [
    "**Step 6** : Builing theee the Neural Network by using the Sequentil API"
   ]
  },
  {
   "cell_type": "markdown",
   "id": "E7hv4buAyAlu",
   "metadata": {
    "id": "E7hv4buAyAlu"
   },
   "source": [
    "1. ``model = Sequential()`` -  It is a model to use when there is only one input and one output on the data you need to show. It is not appropriate to use this model if you have multiple inputs and outputs. It helps you train and infer conclusions from your model. the ``input_shape=(28,28)`` represent the resolution of the image: ***32 x 32*** pixels. ``Dense`` It creates a new dense layer and returns the necessary output data for your model to use. Activation is the element-wise activation function used to pass through the activation arguments,  relu is the rectified linear unit activation function, and Sigmoid is equivalent to a 2-element Softmax, where the second element is taken to be zero."
   ]
  },
  {
   "cell_type": "code",
   "execution_count": null,
   "id": "27b8a493",
   "metadata": {
    "id": "27b8a493"
   },
   "outputs": [],
   "source": [
    "model = Sequential([\n",
    "    Conv2D(16,3, padding='same', activation='relu', input_shape=(IMG_HEIGHT, IMG_WIDTH, 3)),\n",
    "    MaxPooling2D(),\n",
    "    Dropout(0.2),\n",
    "    Conv2D(32, 3, padding='same', activation='relu'),\n",
    "    MaxPooling2D(),\n",
    "    Conv2D(64, 3, padding='same', activation='relu'),\n",
    "    MaxPooling2D(),\n",
    "    Dropout(0.2),\n",
    "    Conv2D(128, 3, padding='same', activation='relu'),\n",
    "    MaxPooling2D(),\n",
    "    Dropout(0.2),\n",
    "    Conv2D(128, 3, padding='same', activation='relu'),\n",
    "    MaxPooling2D(),\n",
    "    Dropout(0.2),\n",
    "    Flatten(),\n",
    "    Dense(512, activation='relu'),\n",
    "    Dense(3, activation='softmax')\n",
    "])"
   ]
  },
  {
   "cell_type": "markdown",
   "id": "BqnU88mGyxp6",
   "metadata": {
    "id": "BqnU88mGyxp6"
   },
   "source": [
    "1. A model needs to be configured before it can be trained. Optimizers are classes or methods used to reduce the losses in the learning model by altering weight and learning rates. ***Adam*** optimizer involves a combination of two gradient descent methodologies: A model ***loss*** is the total quantity that should be minimized during training, while the ***metrics*** measures the model's performance. The ``model.summary()`` is a functions that shows the contents of the Sequential model."
   ]
  },
  {
   "cell_type": "markdown",
   "id": "TYnMQMEl4Z7e",
   "metadata": {
    "id": "TYnMQMEl4Z7e"
   },
   "source": [
    "**Step 7** : Defining an optimmizer, a loss function, and other useful training parameters."
   ]
  },
  {
   "cell_type": "code",
   "execution_count": null,
   "id": "c06294e8",
   "metadata": {
    "id": "c06294e8"
   },
   "outputs": [],
   "source": [
    "model.compile(optimizer='adam',\n",
    "    loss='categorical_crossentropy',\n",
    "    metrics=['accuracy'])"
   ]
  },
  {
   "cell_type": "markdown",
   "id": "fbnfIjiI4oZ-",
   "metadata": {
    "id": "fbnfIjiI4oZ-"
   },
   "source": [
    "**Step 8** : Training the model by using the train dataset."
   ]
  },
  {
   "cell_type": "code",
   "execution_count": null,
   "id": "a783639f",
   "metadata": {
    "id": "a783639f",
    "outputId": "43894c51-b1b0-426c-e0af-e88cf472fa61"
   },
   "outputs": [
    {
     "name": "stdout",
     "output_type": "stream",
     "text": [
      "Model: \"sequential_1\"\n",
      "_________________________________________________________________\n",
      " Layer (type)                Output Shape              Param #   \n",
      "=================================================================\n",
      " conv2d_5 (Conv2D)           (None, 32, 32, 16)        448       \n",
      "                                                                 \n",
      " max_pooling2d_5 (MaxPooling  (None, 16, 16, 16)       0         \n",
      " 2D)                                                             \n",
      "                                                                 \n",
      " dropout_4 (Dropout)         (None, 16, 16, 16)        0         \n",
      "                                                                 \n",
      " conv2d_6 (Conv2D)           (None, 16, 16, 32)        4640      \n",
      "                                                                 \n",
      " max_pooling2d_6 (MaxPooling  (None, 8, 8, 32)         0         \n",
      " 2D)                                                             \n",
      "                                                                 \n",
      " conv2d_7 (Conv2D)           (None, 8, 8, 64)          18496     \n",
      "                                                                 \n",
      " max_pooling2d_7 (MaxPooling  (None, 4, 4, 64)         0         \n",
      " 2D)                                                             \n",
      "                                                                 \n",
      " dropout_5 (Dropout)         (None, 4, 4, 64)          0         \n",
      "                                                                 \n",
      " conv2d_8 (Conv2D)           (None, 4, 4, 128)         73856     \n",
      "                                                                 \n",
      " max_pooling2d_8 (MaxPooling  (None, 2, 2, 128)        0         \n",
      " 2D)                                                             \n",
      "                                                                 \n",
      " dropout_6 (Dropout)         (None, 2, 2, 128)         0         \n",
      "                                                                 \n",
      " conv2d_9 (Conv2D)           (None, 2, 2, 128)         147584    \n",
      "                                                                 \n",
      " max_pooling2d_9 (MaxPooling  (None, 1, 1, 128)        0         \n",
      " 2D)                                                             \n",
      "                                                                 \n",
      " dropout_7 (Dropout)         (None, 1, 1, 128)         0         \n",
      "                                                                 \n",
      " flatten_1 (Flatten)         (None, 128)               0         \n",
      "                                                                 \n",
      " dense_2 (Dense)             (None, 512)               66048     \n",
      "                                                                 \n",
      " dense_3 (Dense)             (None, 3)                 1539      \n",
      "                                                                 \n",
      "=================================================================\n",
      "Total params: 312,611\n",
      "Trainable params: 312,611\n",
      "Non-trainable params: 0\n",
      "_________________________________________________________________\n"
     ]
    }
   ],
   "source": [
    "model.summary()"
   ]
  },
  {
   "cell_type": "code",
   "execution_count": null,
   "id": "111dbe99",
   "metadata": {
    "id": "111dbe99"
   },
   "outputs": [],
   "source": [
    "batch_size = 32\n",
    "epochs = 25"
   ]
  },
  {
   "cell_type": "markdown",
   "id": "S_YEeKMdaB_J",
   "metadata": {
    "id": "S_YEeKMdaB_J"
   },
   "source": [
    "1. The os module provides a function which lists all the files in the specified path using the names provided by the fuction. for example, ***imagepath_cardboard_dir*** with the num_cardboard_train.\n",
    "\n",
    "2. ``total_train = num_cardboard_train + num_glass_train + num_metal_train`` - total number of train set for ***cardboard***, ***glass***, ***metal***, ***paper***, ***plastic***, and ***trash***.\n",
    "\n",
    "3. ``total_test = num_cardboard_test + num_glass_test + num_metal_test`` - total number of test set for ***cardboard***, ***glass***, ***metal***, ***paper***, ***plastic***, and ***trash***."
   ]
  },
  {
   "cell_type": "code",
   "execution_count": null,
   "id": "31666089",
   "metadata": {
    "id": "31666089"
   },
   "outputs": [],
   "source": [
    "num_cardboard_train = len(os.listdir(imagepath_cardboard_dir))\n",
    "num_glass_train = len(os.listdir(imagepath_glass_dir))\n",
    "num_metal_train = len(os.listdir(imagepath_metal_dir))\n",
    "\n",
    "num_cardboard_test = len(os.listdir(graypath_cardboard))\n",
    "num_glass_test = len(os.listdir(graypath_glass))\n",
    "num_metal_test = len(os.listdir(graypath_metal))\n",
    "\n",
    "total_train = num_cardboard_train + num_glass_train + num_metal_train\n",
    "total_test = num_cardboard_test + num_glass_test + num_metal_test"
   ]
  },
  {
   "cell_type": "markdown",
   "id": "ZdHQcWCgzkA0",
   "metadata": {
    "id": "ZdHQcWCgzkA0"
   },
   "source": [
    "1. In this model the number of epochs is set to 25 this number represent the number of times the training set to run. A model that is well-fit produces more accurate results, as it generalizes to similar data to that on which it was trained. ``validation_data`` Data on which to evaluate the loss and any model metrics at the end of each epoch. ``validation_steps`` Only relevant if validation_data is provided and is a tf. data dataset. Total number of steps to draw before stopping when performing validation at the end of every epoch."
   ]
  },
  {
   "cell_type": "code",
   "execution_count": null,
   "id": "57f863e5",
   "metadata": {
    "id": "57f863e5",
    "outputId": "d6aa2030-7926-4794-c658-856f3f82e743"
   },
   "outputs": [
    {
     "name": "stdout",
     "output_type": "stream",
     "text": [
      "Epoch 1/25\n",
      "41/41 [==============================] - 2s 51ms/step - loss: 0.5283 - accuracy: 0.7871 - val_loss: 1.2292 - val_accuracy: 0.4261\n",
      "Epoch 2/25\n",
      "41/41 [==============================] - 2s 50ms/step - loss: 0.4556 - accuracy: 0.8175 - val_loss: 1.0954 - val_accuracy: 0.4489\n",
      "Epoch 3/25\n",
      "41/41 [==============================] - 2s 50ms/step - loss: 0.4597 - accuracy: 0.8128 - val_loss: 1.1225 - val_accuracy: 0.4543\n",
      "Epoch 4/25\n",
      "41/41 [==============================] - 2s 51ms/step - loss: 0.4243 - accuracy: 0.8354 - val_loss: 1.3159 - val_accuracy: 0.4207\n",
      "Epoch 5/25\n",
      "41/41 [==============================] - 2s 50ms/step - loss: 0.4477 - accuracy: 0.8261 - val_loss: 0.9988 - val_accuracy: 0.4809\n",
      "Epoch 6/25\n",
      "41/41 [==============================] - 2s 52ms/step - loss: 0.4027 - accuracy: 0.8453 - val_loss: 1.2312 - val_accuracy: 0.4733\n",
      "Epoch 7/25\n",
      "41/41 [==============================] - 2s 51ms/step - loss: 0.4062 - accuracy: 0.8362 - val_loss: 1.0736 - val_accuracy: 0.4771\n",
      "Epoch 8/25\n",
      "41/41 [==============================] - 2s 51ms/step - loss: 0.3681 - accuracy: 0.8580 - val_loss: 1.3493 - val_accuracy: 0.4421\n",
      "Epoch 9/25\n",
      "41/41 [==============================] - 3s 65ms/step - loss: 0.3488 - accuracy: 0.8651 - val_loss: 1.0707 - val_accuracy: 0.4573\n",
      "Epoch 10/25\n",
      "41/41 [==============================] - 2s 56ms/step - loss: 0.3365 - accuracy: 0.8651 - val_loss: 1.2234 - val_accuracy: 0.4642\n",
      "Epoch 11/25\n",
      "41/41 [==============================] - 3s 78ms/step - loss: 0.3125 - accuracy: 0.8658 - val_loss: 1.1680 - val_accuracy: 0.4901\n",
      "Epoch 12/25\n",
      "41/41 [==============================] - 3s 70ms/step - loss: 0.2949 - accuracy: 0.8807 - val_loss: 0.9562 - val_accuracy: 0.5221\n",
      "Epoch 13/25\n",
      "41/41 [==============================] - 3s 64ms/step - loss: 0.2817 - accuracy: 0.8939 - val_loss: 0.9931 - val_accuracy: 0.5145\n",
      "Epoch 14/25\n",
      "41/41 [==============================] - 2s 52ms/step - loss: 0.2737 - accuracy: 0.8885 - val_loss: 1.1319 - val_accuracy: 0.4710\n",
      "Epoch 15/25\n",
      "41/41 [==============================] - 2s 51ms/step - loss: 0.2336 - accuracy: 0.9087 - val_loss: 0.8315 - val_accuracy: 0.6059\n",
      "Epoch 16/25\n",
      "41/41 [==============================] - 2s 53ms/step - loss: 0.2755 - accuracy: 0.8963 - val_loss: 1.1849 - val_accuracy: 0.4680\n",
      "Epoch 17/25\n",
      "41/41 [==============================] - 2s 50ms/step - loss: 0.2269 - accuracy: 0.9103 - val_loss: 1.1485 - val_accuracy: 0.4886\n",
      "Epoch 18/25\n",
      "41/41 [==============================] - 2s 50ms/step - loss: 0.2661 - accuracy: 0.8978 - val_loss: 0.9366 - val_accuracy: 0.5450\n",
      "Epoch 19/25\n",
      "41/41 [==============================] - 2s 60ms/step - loss: 0.2193 - accuracy: 0.9204 - val_loss: 1.1708 - val_accuracy: 0.4954\n",
      "Epoch 20/25\n",
      "41/41 [==============================] - 2s 52ms/step - loss: 0.2165 - accuracy: 0.9142 - val_loss: 1.1504 - val_accuracy: 0.5122\n",
      "Epoch 21/25\n",
      "41/41 [==============================] - 2s 50ms/step - loss: 0.2656 - accuracy: 0.8892 - val_loss: 1.2333 - val_accuracy: 0.4893\n",
      "Epoch 22/25\n",
      "41/41 [==============================] - 2s 51ms/step - loss: 0.2108 - accuracy: 0.9181 - val_loss: 0.9317 - val_accuracy: 0.5556\n",
      "Epoch 23/25\n",
      "41/41 [==============================] - 2s 52ms/step - loss: 0.2005 - accuracy: 0.9220 - val_loss: 0.9898 - val_accuracy: 0.5503\n",
      "Epoch 24/25\n",
      "41/41 [==============================] - 2s 50ms/step - loss: 0.1880 - accuracy: 0.9282 - val_loss: 0.9564 - val_accuracy: 0.5694\n",
      "Epoch 25/25\n",
      "41/41 [==============================] - 2s 51ms/step - loss: 0.1508 - accuracy: 0.9462 - val_loss: 1.5092 - val_accuracy: 0.5366\n"
     ]
    }
   ],
   "source": [
    "history = model.fit(\n",
    "    train_data_gen,\n",
    "    steps_per_epoch=total_train // batch_size,\n",
    "    epochs = epochs,\n",
    "    validation_data = test_data_gen,\n",
    "    validation_steps= total_test // batch_size,\n",
    "    callbacks = [tf.keras.callbacks.EarlyStopping(\n",
    "                monitor='val_loss',\n",
    "                min_delta=0.01,\n",
    "                patience=10)]\n",
    ")"
   ]
  },
  {
   "cell_type": "markdown",
   "id": "BeP0d2ol4vA1",
   "metadata": {
    "id": "BeP0d2ol4vA1"
   },
   "source": [
    "**Step 9** : Evaluating the performance of the model using the test dataset."
   ]
  },
  {
   "cell_type": "code",
   "execution_count": null,
   "id": "c4283cea",
   "metadata": {
    "id": "c4283cea",
    "outputId": "71ccaae4-8b06-4998-f904-f5a66a0a1865"
   },
   "outputs": [
    {
     "name": "stdout",
     "output_type": "stream",
     "text": [
      "42/42 [==============================] - 1s 34ms/step - loss: 0.0893 - accuracy: 0.9688\n",
      "Test accuracy: 96.87975645065308 Test Loss: 0.0892927348613739 \n"
     ]
    }
   ],
   "source": [
    "test_loss, test_acc = model.evaluate(train_data_gen)\n",
    "print('Test accuracy: {} Test Loss: {} '.format(test_acc*100, test_loss))"
   ]
  },
  {
   "cell_type": "markdown",
   "id": "X4fwRD0zaWEs",
   "metadata": {
    "id": "X4fwRD0zaWEs"
   },
   "source": [
    "1. ``import plotly.graph_objects as goimport plotly.graph_objects as go `` - IT contains a automatically-generated hierarchy of Python classes that represent non-leaf nodes in this figure schema. \n",
    "\n",
    "2. ``fig = go.Figure()`` - is a Python package for creating, manipulation, nad rendering graphocal figures. Graphs are represented by figures, which are data structure. \n",
    "\n",
    "\n",
    "5. ``fig.show()`` - is the pyplot module of the matplotlob library, this function allows all figures to be displayed. It also helps to visualize more easily."
   ]
  },
  {
   "cell_type": "code",
   "execution_count": null,
   "id": "9e5166b4",
   "metadata": {
    "id": "9e5166b4",
    "outputId": "f478e619-7b0d-430a-bd87-67bc31fc4881"
   },
   "outputs": [
    {
     "data": {
      "application/vnd.plotly.v1+json": {
       "config": {
        "plotlyServerURL": "https://plot.ly"
       },
       "data": [
        {
         "mode": "lines+markers",
         "name": "Training accuracy",
         "type": "scatter",
         "x": [
          0,
          1,
          2,
          3,
          4,
          5,
          6,
          7,
          8,
          9,
          10,
          11,
          12,
          13,
          14,
          15,
          16,
          17,
          18,
          19,
          20,
          21,
          22,
          23,
          24
         ],
         "y": [
          0.7870514988899231,
          0.8174726963043213,
          0.8127925395965576,
          0.83541339635849,
          0.8260530233383179,
          0.8452743887901306,
          0.8361934423446655,
          0.8580343127250671,
          0.8650546073913574,
          0.8650546073913574,
          0.865834653377533,
          0.8806552290916443,
          0.8939157724380493,
          0.8884555101394653,
          0.9087363481521606,
          0.8962558507919312,
          0.9102964401245117,
          0.8978158831596375,
          0.9204367995262146,
          0.9141965508460999,
          0.8892355561256409,
          0.9180967211723328,
          0.9219968914985657,
          0.9282371401786804,
          0.9461778402328491
         ]
        },
        {
         "mode": "lines+markers",
         "name": "Validation accuracy",
         "type": "scatter",
         "x": [
          0,
          1,
          2,
          3,
          4,
          5,
          6,
          7,
          8,
          9,
          10,
          11,
          12,
          13,
          14,
          15,
          16,
          17,
          18,
          19,
          20,
          21,
          22,
          23,
          24
         ],
         "y": [
          0.4260670840740204,
          0.4489329159259796,
          0.45426830649375916,
          0.42073169350624084,
          0.4809451103210449,
          0.47332316637039185,
          0.4771341383457184,
          0.44207316637039185,
          0.4573170840740204,
          0.46417683362960815,
          0.490091472864151,
          0.5221036672592163,
          0.5144817233085632,
          0.4710365831851959,
          0.6059451103210449,
          0.4679878056049347,
          0.4885670840740204,
          0.5449694991111755,
          0.49542683362960815,
          0.5121951103210449,
          0.4893292784690857,
          0.5556402206420898,
          0.5503048896789551,
          0.5693597793579102,
          0.5365853905677795
         ]
        }
       ],
       "layout": {
        "template": {
         "data": {
          "bar": [
           {
            "error_x": {
             "color": "#2a3f5f"
            },
            "error_y": {
             "color": "#2a3f5f"
            },
            "marker": {
             "line": {
              "color": "#E5ECF6",
              "width": 0.5
             },
             "pattern": {
              "fillmode": "overlay",
              "size": 10,
              "solidity": 0.2
             }
            },
            "type": "bar"
           }
          ],
          "barpolar": [
           {
            "marker": {
             "line": {
              "color": "#E5ECF6",
              "width": 0.5
             },
             "pattern": {
              "fillmode": "overlay",
              "size": 10,
              "solidity": 0.2
             }
            },
            "type": "barpolar"
           }
          ],
          "carpet": [
           {
            "aaxis": {
             "endlinecolor": "#2a3f5f",
             "gridcolor": "white",
             "linecolor": "white",
             "minorgridcolor": "white",
             "startlinecolor": "#2a3f5f"
            },
            "baxis": {
             "endlinecolor": "#2a3f5f",
             "gridcolor": "white",
             "linecolor": "white",
             "minorgridcolor": "white",
             "startlinecolor": "#2a3f5f"
            },
            "type": "carpet"
           }
          ],
          "choropleth": [
           {
            "colorbar": {
             "outlinewidth": 0,
             "ticks": ""
            },
            "type": "choropleth"
           }
          ],
          "contour": [
           {
            "colorbar": {
             "outlinewidth": 0,
             "ticks": ""
            },
            "colorscale": [
             [
              0,
              "#0d0887"
             ],
             [
              0.1111111111111111,
              "#46039f"
             ],
             [
              0.2222222222222222,
              "#7201a8"
             ],
             [
              0.3333333333333333,
              "#9c179e"
             ],
             [
              0.4444444444444444,
              "#bd3786"
             ],
             [
              0.5555555555555556,
              "#d8576b"
             ],
             [
              0.6666666666666666,
              "#ed7953"
             ],
             [
              0.7777777777777778,
              "#fb9f3a"
             ],
             [
              0.8888888888888888,
              "#fdca26"
             ],
             [
              1,
              "#f0f921"
             ]
            ],
            "type": "contour"
           }
          ],
          "contourcarpet": [
           {
            "colorbar": {
             "outlinewidth": 0,
             "ticks": ""
            },
            "type": "contourcarpet"
           }
          ],
          "heatmap": [
           {
            "colorbar": {
             "outlinewidth": 0,
             "ticks": ""
            },
            "colorscale": [
             [
              0,
              "#0d0887"
             ],
             [
              0.1111111111111111,
              "#46039f"
             ],
             [
              0.2222222222222222,
              "#7201a8"
             ],
             [
              0.3333333333333333,
              "#9c179e"
             ],
             [
              0.4444444444444444,
              "#bd3786"
             ],
             [
              0.5555555555555556,
              "#d8576b"
             ],
             [
              0.6666666666666666,
              "#ed7953"
             ],
             [
              0.7777777777777778,
              "#fb9f3a"
             ],
             [
              0.8888888888888888,
              "#fdca26"
             ],
             [
              1,
              "#f0f921"
             ]
            ],
            "type": "heatmap"
           }
          ],
          "heatmapgl": [
           {
            "colorbar": {
             "outlinewidth": 0,
             "ticks": ""
            },
            "colorscale": [
             [
              0,
              "#0d0887"
             ],
             [
              0.1111111111111111,
              "#46039f"
             ],
             [
              0.2222222222222222,
              "#7201a8"
             ],
             [
              0.3333333333333333,
              "#9c179e"
             ],
             [
              0.4444444444444444,
              "#bd3786"
             ],
             [
              0.5555555555555556,
              "#d8576b"
             ],
             [
              0.6666666666666666,
              "#ed7953"
             ],
             [
              0.7777777777777778,
              "#fb9f3a"
             ],
             [
              0.8888888888888888,
              "#fdca26"
             ],
             [
              1,
              "#f0f921"
             ]
            ],
            "type": "heatmapgl"
           }
          ],
          "histogram": [
           {
            "marker": {
             "pattern": {
              "fillmode": "overlay",
              "size": 10,
              "solidity": 0.2
             }
            },
            "type": "histogram"
           }
          ],
          "histogram2d": [
           {
            "colorbar": {
             "outlinewidth": 0,
             "ticks": ""
            },
            "colorscale": [
             [
              0,
              "#0d0887"
             ],
             [
              0.1111111111111111,
              "#46039f"
             ],
             [
              0.2222222222222222,
              "#7201a8"
             ],
             [
              0.3333333333333333,
              "#9c179e"
             ],
             [
              0.4444444444444444,
              "#bd3786"
             ],
             [
              0.5555555555555556,
              "#d8576b"
             ],
             [
              0.6666666666666666,
              "#ed7953"
             ],
             [
              0.7777777777777778,
              "#fb9f3a"
             ],
             [
              0.8888888888888888,
              "#fdca26"
             ],
             [
              1,
              "#f0f921"
             ]
            ],
            "type": "histogram2d"
           }
          ],
          "histogram2dcontour": [
           {
            "colorbar": {
             "outlinewidth": 0,
             "ticks": ""
            },
            "colorscale": [
             [
              0,
              "#0d0887"
             ],
             [
              0.1111111111111111,
              "#46039f"
             ],
             [
              0.2222222222222222,
              "#7201a8"
             ],
             [
              0.3333333333333333,
              "#9c179e"
             ],
             [
              0.4444444444444444,
              "#bd3786"
             ],
             [
              0.5555555555555556,
              "#d8576b"
             ],
             [
              0.6666666666666666,
              "#ed7953"
             ],
             [
              0.7777777777777778,
              "#fb9f3a"
             ],
             [
              0.8888888888888888,
              "#fdca26"
             ],
             [
              1,
              "#f0f921"
             ]
            ],
            "type": "histogram2dcontour"
           }
          ],
          "mesh3d": [
           {
            "colorbar": {
             "outlinewidth": 0,
             "ticks": ""
            },
            "type": "mesh3d"
           }
          ],
          "parcoords": [
           {
            "line": {
             "colorbar": {
              "outlinewidth": 0,
              "ticks": ""
             }
            },
            "type": "parcoords"
           }
          ],
          "pie": [
           {
            "automargin": true,
            "type": "pie"
           }
          ],
          "scatter": [
           {
            "fillpattern": {
             "fillmode": "overlay",
             "size": 10,
             "solidity": 0.2
            },
            "type": "scatter"
           }
          ],
          "scatter3d": [
           {
            "line": {
             "colorbar": {
              "outlinewidth": 0,
              "ticks": ""
             }
            },
            "marker": {
             "colorbar": {
              "outlinewidth": 0,
              "ticks": ""
             }
            },
            "type": "scatter3d"
           }
          ],
          "scattercarpet": [
           {
            "marker": {
             "colorbar": {
              "outlinewidth": 0,
              "ticks": ""
             }
            },
            "type": "scattercarpet"
           }
          ],
          "scattergeo": [
           {
            "marker": {
             "colorbar": {
              "outlinewidth": 0,
              "ticks": ""
             }
            },
            "type": "scattergeo"
           }
          ],
          "scattergl": [
           {
            "marker": {
             "colorbar": {
              "outlinewidth": 0,
              "ticks": ""
             }
            },
            "type": "scattergl"
           }
          ],
          "scattermapbox": [
           {
            "marker": {
             "colorbar": {
              "outlinewidth": 0,
              "ticks": ""
             }
            },
            "type": "scattermapbox"
           }
          ],
          "scatterpolar": [
           {
            "marker": {
             "colorbar": {
              "outlinewidth": 0,
              "ticks": ""
             }
            },
            "type": "scatterpolar"
           }
          ],
          "scatterpolargl": [
           {
            "marker": {
             "colorbar": {
              "outlinewidth": 0,
              "ticks": ""
             }
            },
            "type": "scatterpolargl"
           }
          ],
          "scatterternary": [
           {
            "marker": {
             "colorbar": {
              "outlinewidth": 0,
              "ticks": ""
             }
            },
            "type": "scatterternary"
           }
          ],
          "surface": [
           {
            "colorbar": {
             "outlinewidth": 0,
             "ticks": ""
            },
            "colorscale": [
             [
              0,
              "#0d0887"
             ],
             [
              0.1111111111111111,
              "#46039f"
             ],
             [
              0.2222222222222222,
              "#7201a8"
             ],
             [
              0.3333333333333333,
              "#9c179e"
             ],
             [
              0.4444444444444444,
              "#bd3786"
             ],
             [
              0.5555555555555556,
              "#d8576b"
             ],
             [
              0.6666666666666666,
              "#ed7953"
             ],
             [
              0.7777777777777778,
              "#fb9f3a"
             ],
             [
              0.8888888888888888,
              "#fdca26"
             ],
             [
              1,
              "#f0f921"
             ]
            ],
            "type": "surface"
           }
          ],
          "table": [
           {
            "cells": {
             "fill": {
              "color": "#EBF0F8"
             },
             "line": {
              "color": "white"
             }
            },
            "header": {
             "fill": {
              "color": "#C8D4E3"
             },
             "line": {
              "color": "white"
             }
            },
            "type": "table"
           }
          ]
         },
         "layout": {
          "annotationdefaults": {
           "arrowcolor": "#2a3f5f",
           "arrowhead": 0,
           "arrowwidth": 1
          },
          "autotypenumbers": "strict",
          "coloraxis": {
           "colorbar": {
            "outlinewidth": 0,
            "ticks": ""
           }
          },
          "colorscale": {
           "diverging": [
            [
             0,
             "#8e0152"
            ],
            [
             0.1,
             "#c51b7d"
            ],
            [
             0.2,
             "#de77ae"
            ],
            [
             0.3,
             "#f1b6da"
            ],
            [
             0.4,
             "#fde0ef"
            ],
            [
             0.5,
             "#f7f7f7"
            ],
            [
             0.6,
             "#e6f5d0"
            ],
            [
             0.7,
             "#b8e186"
            ],
            [
             0.8,
             "#7fbc41"
            ],
            [
             0.9,
             "#4d9221"
            ],
            [
             1,
             "#276419"
            ]
           ],
           "sequential": [
            [
             0,
             "#0d0887"
            ],
            [
             0.1111111111111111,
             "#46039f"
            ],
            [
             0.2222222222222222,
             "#7201a8"
            ],
            [
             0.3333333333333333,
             "#9c179e"
            ],
            [
             0.4444444444444444,
             "#bd3786"
            ],
            [
             0.5555555555555556,
             "#d8576b"
            ],
            [
             0.6666666666666666,
             "#ed7953"
            ],
            [
             0.7777777777777778,
             "#fb9f3a"
            ],
            [
             0.8888888888888888,
             "#fdca26"
            ],
            [
             1,
             "#f0f921"
            ]
           ],
           "sequentialminus": [
            [
             0,
             "#0d0887"
            ],
            [
             0.1111111111111111,
             "#46039f"
            ],
            [
             0.2222222222222222,
             "#7201a8"
            ],
            [
             0.3333333333333333,
             "#9c179e"
            ],
            [
             0.4444444444444444,
             "#bd3786"
            ],
            [
             0.5555555555555556,
             "#d8576b"
            ],
            [
             0.6666666666666666,
             "#ed7953"
            ],
            [
             0.7777777777777778,
             "#fb9f3a"
            ],
            [
             0.8888888888888888,
             "#fdca26"
            ],
            [
             1,
             "#f0f921"
            ]
           ]
          },
          "colorway": [
           "#636efa",
           "#EF553B",
           "#00cc96",
           "#ab63fa",
           "#FFA15A",
           "#19d3f3",
           "#FF6692",
           "#B6E880",
           "#FF97FF",
           "#FECB52"
          ],
          "font": {
           "color": "#2a3f5f"
          },
          "geo": {
           "bgcolor": "white",
           "lakecolor": "white",
           "landcolor": "#E5ECF6",
           "showlakes": true,
           "showland": true,
           "subunitcolor": "white"
          },
          "hoverlabel": {
           "align": "left"
          },
          "hovermode": "closest",
          "mapbox": {
           "style": "light"
          },
          "paper_bgcolor": "white",
          "plot_bgcolor": "#E5ECF6",
          "polar": {
           "angularaxis": {
            "gridcolor": "white",
            "linecolor": "white",
            "ticks": ""
           },
           "bgcolor": "#E5ECF6",
           "radialaxis": {
            "gridcolor": "white",
            "linecolor": "white",
            "ticks": ""
           }
          },
          "scene": {
           "xaxis": {
            "backgroundcolor": "#E5ECF6",
            "gridcolor": "white",
            "gridwidth": 2,
            "linecolor": "white",
            "showbackground": true,
            "ticks": "",
            "zerolinecolor": "white"
           },
           "yaxis": {
            "backgroundcolor": "#E5ECF6",
            "gridcolor": "white",
            "gridwidth": 2,
            "linecolor": "white",
            "showbackground": true,
            "ticks": "",
            "zerolinecolor": "white"
           },
           "zaxis": {
            "backgroundcolor": "#E5ECF6",
            "gridcolor": "white",
            "gridwidth": 2,
            "linecolor": "white",
            "showbackground": true,
            "ticks": "",
            "zerolinecolor": "white"
           }
          },
          "shapedefaults": {
           "line": {
            "color": "#2a3f5f"
           }
          },
          "ternary": {
           "aaxis": {
            "gridcolor": "white",
            "linecolor": "white",
            "ticks": ""
           },
           "baxis": {
            "gridcolor": "white",
            "linecolor": "white",
            "ticks": ""
           },
           "bgcolor": "#E5ECF6",
           "caxis": {
            "gridcolor": "white",
            "linecolor": "white",
            "ticks": ""
           }
          },
          "title": {
           "x": 0.05
          },
          "xaxis": {
           "automargin": true,
           "gridcolor": "white",
           "linecolor": "white",
           "ticks": "",
           "title": {
            "standoff": 15
           },
           "zerolinecolor": "white",
           "zerolinewidth": 2
          },
          "yaxis": {
           "automargin": true,
           "gridcolor": "white",
           "linecolor": "white",
           "ticks": "",
           "title": {
            "standoff": 15
           },
           "zerolinecolor": "white",
           "zerolinewidth": 2
          }
         }
        },
        "title": {
         "text": "Accuracy"
        },
        "xaxis": {
         "title": {
          "text": "Epoch"
         }
        },
        "yaxis": {
         "title": {
          "text": "Percentage"
         }
        }
       }
      },
      "text/html": [
       "<div>                            <div id=\"8bc94719-3c43-4f56-b96a-1836e91d6b25\" class=\"plotly-graph-div\" style=\"height:525px; width:100%;\"></div>            <script type=\"text/javascript\">                require([\"plotly\"], function(Plotly) {                    window.PLOTLYENV=window.PLOTLYENV || {};                                    if (document.getElementById(\"8bc94719-3c43-4f56-b96a-1836e91d6b25\")) {                    Plotly.newPlot(                        \"8bc94719-3c43-4f56-b96a-1836e91d6b25\",                        [{\"mode\":\"lines+markers\",\"name\":\"Training accuracy\",\"x\":[0,1,2,3,4,5,6,7,8,9,10,11,12,13,14,15,16,17,18,19,20,21,22,23,24],\"y\":[0.7870514988899231,0.8174726963043213,0.8127925395965576,0.83541339635849,0.8260530233383179,0.8452743887901306,0.8361934423446655,0.8580343127250671,0.8650546073913574,0.8650546073913574,0.865834653377533,0.8806552290916443,0.8939157724380493,0.8884555101394653,0.9087363481521606,0.8962558507919312,0.9102964401245117,0.8978158831596375,0.9204367995262146,0.9141965508460999,0.8892355561256409,0.9180967211723328,0.9219968914985657,0.9282371401786804,0.9461778402328491],\"type\":\"scatter\"},{\"mode\":\"lines+markers\",\"name\":\"Validation accuracy\",\"x\":[0,1,2,3,4,5,6,7,8,9,10,11,12,13,14,15,16,17,18,19,20,21,22,23,24],\"y\":[0.4260670840740204,0.4489329159259796,0.45426830649375916,0.42073169350624084,0.4809451103210449,0.47332316637039185,0.4771341383457184,0.44207316637039185,0.4573170840740204,0.46417683362960815,0.490091472864151,0.5221036672592163,0.5144817233085632,0.4710365831851959,0.6059451103210449,0.4679878056049347,0.4885670840740204,0.5449694991111755,0.49542683362960815,0.5121951103210449,0.4893292784690857,0.5556402206420898,0.5503048896789551,0.5693597793579102,0.5365853905677795],\"type\":\"scatter\"}],                        {\"template\":{\"data\":{\"histogram2dcontour\":[{\"type\":\"histogram2dcontour\",\"colorbar\":{\"outlinewidth\":0,\"ticks\":\"\"},\"colorscale\":[[0.0,\"#0d0887\"],[0.1111111111111111,\"#46039f\"],[0.2222222222222222,\"#7201a8\"],[0.3333333333333333,\"#9c179e\"],[0.4444444444444444,\"#bd3786\"],[0.5555555555555556,\"#d8576b\"],[0.6666666666666666,\"#ed7953\"],[0.7777777777777778,\"#fb9f3a\"],[0.8888888888888888,\"#fdca26\"],[1.0,\"#f0f921\"]]}],\"choropleth\":[{\"type\":\"choropleth\",\"colorbar\":{\"outlinewidth\":0,\"ticks\":\"\"}}],\"histogram2d\":[{\"type\":\"histogram2d\",\"colorbar\":{\"outlinewidth\":0,\"ticks\":\"\"},\"colorscale\":[[0.0,\"#0d0887\"],[0.1111111111111111,\"#46039f\"],[0.2222222222222222,\"#7201a8\"],[0.3333333333333333,\"#9c179e\"],[0.4444444444444444,\"#bd3786\"],[0.5555555555555556,\"#d8576b\"],[0.6666666666666666,\"#ed7953\"],[0.7777777777777778,\"#fb9f3a\"],[0.8888888888888888,\"#fdca26\"],[1.0,\"#f0f921\"]]}],\"heatmap\":[{\"type\":\"heatmap\",\"colorbar\":{\"outlinewidth\":0,\"ticks\":\"\"},\"colorscale\":[[0.0,\"#0d0887\"],[0.1111111111111111,\"#46039f\"],[0.2222222222222222,\"#7201a8\"],[0.3333333333333333,\"#9c179e\"],[0.4444444444444444,\"#bd3786\"],[0.5555555555555556,\"#d8576b\"],[0.6666666666666666,\"#ed7953\"],[0.7777777777777778,\"#fb9f3a\"],[0.8888888888888888,\"#fdca26\"],[1.0,\"#f0f921\"]]}],\"heatmapgl\":[{\"type\":\"heatmapgl\",\"colorbar\":{\"outlinewidth\":0,\"ticks\":\"\"},\"colorscale\":[[0.0,\"#0d0887\"],[0.1111111111111111,\"#46039f\"],[0.2222222222222222,\"#7201a8\"],[0.3333333333333333,\"#9c179e\"],[0.4444444444444444,\"#bd3786\"],[0.5555555555555556,\"#d8576b\"],[0.6666666666666666,\"#ed7953\"],[0.7777777777777778,\"#fb9f3a\"],[0.8888888888888888,\"#fdca26\"],[1.0,\"#f0f921\"]]}],\"contourcarpet\":[{\"type\":\"contourcarpet\",\"colorbar\":{\"outlinewidth\":0,\"ticks\":\"\"}}],\"contour\":[{\"type\":\"contour\",\"colorbar\":{\"outlinewidth\":0,\"ticks\":\"\"},\"colorscale\":[[0.0,\"#0d0887\"],[0.1111111111111111,\"#46039f\"],[0.2222222222222222,\"#7201a8\"],[0.3333333333333333,\"#9c179e\"],[0.4444444444444444,\"#bd3786\"],[0.5555555555555556,\"#d8576b\"],[0.6666666666666666,\"#ed7953\"],[0.7777777777777778,\"#fb9f3a\"],[0.8888888888888888,\"#fdca26\"],[1.0,\"#f0f921\"]]}],\"surface\":[{\"type\":\"surface\",\"colorbar\":{\"outlinewidth\":0,\"ticks\":\"\"},\"colorscale\":[[0.0,\"#0d0887\"],[0.1111111111111111,\"#46039f\"],[0.2222222222222222,\"#7201a8\"],[0.3333333333333333,\"#9c179e\"],[0.4444444444444444,\"#bd3786\"],[0.5555555555555556,\"#d8576b\"],[0.6666666666666666,\"#ed7953\"],[0.7777777777777778,\"#fb9f3a\"],[0.8888888888888888,\"#fdca26\"],[1.0,\"#f0f921\"]]}],\"mesh3d\":[{\"type\":\"mesh3d\",\"colorbar\":{\"outlinewidth\":0,\"ticks\":\"\"}}],\"scatter\":[{\"fillpattern\":{\"fillmode\":\"overlay\",\"size\":10,\"solidity\":0.2},\"type\":\"scatter\"}],\"parcoords\":[{\"type\":\"parcoords\",\"line\":{\"colorbar\":{\"outlinewidth\":0,\"ticks\":\"\"}}}],\"scatterpolargl\":[{\"type\":\"scatterpolargl\",\"marker\":{\"colorbar\":{\"outlinewidth\":0,\"ticks\":\"\"}}}],\"bar\":[{\"error_x\":{\"color\":\"#2a3f5f\"},\"error_y\":{\"color\":\"#2a3f5f\"},\"marker\":{\"line\":{\"color\":\"#E5ECF6\",\"width\":0.5},\"pattern\":{\"fillmode\":\"overlay\",\"size\":10,\"solidity\":0.2}},\"type\":\"bar\"}],\"scattergeo\":[{\"type\":\"scattergeo\",\"marker\":{\"colorbar\":{\"outlinewidth\":0,\"ticks\":\"\"}}}],\"scatterpolar\":[{\"type\":\"scatterpolar\",\"marker\":{\"colorbar\":{\"outlinewidth\":0,\"ticks\":\"\"}}}],\"histogram\":[{\"marker\":{\"pattern\":{\"fillmode\":\"overlay\",\"size\":10,\"solidity\":0.2}},\"type\":\"histogram\"}],\"scattergl\":[{\"type\":\"scattergl\",\"marker\":{\"colorbar\":{\"outlinewidth\":0,\"ticks\":\"\"}}}],\"scatter3d\":[{\"type\":\"scatter3d\",\"line\":{\"colorbar\":{\"outlinewidth\":0,\"ticks\":\"\"}},\"marker\":{\"colorbar\":{\"outlinewidth\":0,\"ticks\":\"\"}}}],\"scattermapbox\":[{\"type\":\"scattermapbox\",\"marker\":{\"colorbar\":{\"outlinewidth\":0,\"ticks\":\"\"}}}],\"scatterternary\":[{\"type\":\"scatterternary\",\"marker\":{\"colorbar\":{\"outlinewidth\":0,\"ticks\":\"\"}}}],\"scattercarpet\":[{\"type\":\"scattercarpet\",\"marker\":{\"colorbar\":{\"outlinewidth\":0,\"ticks\":\"\"}}}],\"carpet\":[{\"aaxis\":{\"endlinecolor\":\"#2a3f5f\",\"gridcolor\":\"white\",\"linecolor\":\"white\",\"minorgridcolor\":\"white\",\"startlinecolor\":\"#2a3f5f\"},\"baxis\":{\"endlinecolor\":\"#2a3f5f\",\"gridcolor\":\"white\",\"linecolor\":\"white\",\"minorgridcolor\":\"white\",\"startlinecolor\":\"#2a3f5f\"},\"type\":\"carpet\"}],\"table\":[{\"cells\":{\"fill\":{\"color\":\"#EBF0F8\"},\"line\":{\"color\":\"white\"}},\"header\":{\"fill\":{\"color\":\"#C8D4E3\"},\"line\":{\"color\":\"white\"}},\"type\":\"table\"}],\"barpolar\":[{\"marker\":{\"line\":{\"color\":\"#E5ECF6\",\"width\":0.5},\"pattern\":{\"fillmode\":\"overlay\",\"size\":10,\"solidity\":0.2}},\"type\":\"barpolar\"}],\"pie\":[{\"automargin\":true,\"type\":\"pie\"}]},\"layout\":{\"autotypenumbers\":\"strict\",\"colorway\":[\"#636efa\",\"#EF553B\",\"#00cc96\",\"#ab63fa\",\"#FFA15A\",\"#19d3f3\",\"#FF6692\",\"#B6E880\",\"#FF97FF\",\"#FECB52\"],\"font\":{\"color\":\"#2a3f5f\"},\"hovermode\":\"closest\",\"hoverlabel\":{\"align\":\"left\"},\"paper_bgcolor\":\"white\",\"plot_bgcolor\":\"#E5ECF6\",\"polar\":{\"bgcolor\":\"#E5ECF6\",\"angularaxis\":{\"gridcolor\":\"white\",\"linecolor\":\"white\",\"ticks\":\"\"},\"radialaxis\":{\"gridcolor\":\"white\",\"linecolor\":\"white\",\"ticks\":\"\"}},\"ternary\":{\"bgcolor\":\"#E5ECF6\",\"aaxis\":{\"gridcolor\":\"white\",\"linecolor\":\"white\",\"ticks\":\"\"},\"baxis\":{\"gridcolor\":\"white\",\"linecolor\":\"white\",\"ticks\":\"\"},\"caxis\":{\"gridcolor\":\"white\",\"linecolor\":\"white\",\"ticks\":\"\"}},\"coloraxis\":{\"colorbar\":{\"outlinewidth\":0,\"ticks\":\"\"}},\"colorscale\":{\"sequential\":[[0.0,\"#0d0887\"],[0.1111111111111111,\"#46039f\"],[0.2222222222222222,\"#7201a8\"],[0.3333333333333333,\"#9c179e\"],[0.4444444444444444,\"#bd3786\"],[0.5555555555555556,\"#d8576b\"],[0.6666666666666666,\"#ed7953\"],[0.7777777777777778,\"#fb9f3a\"],[0.8888888888888888,\"#fdca26\"],[1.0,\"#f0f921\"]],\"sequentialminus\":[[0.0,\"#0d0887\"],[0.1111111111111111,\"#46039f\"],[0.2222222222222222,\"#7201a8\"],[0.3333333333333333,\"#9c179e\"],[0.4444444444444444,\"#bd3786\"],[0.5555555555555556,\"#d8576b\"],[0.6666666666666666,\"#ed7953\"],[0.7777777777777778,\"#fb9f3a\"],[0.8888888888888888,\"#fdca26\"],[1.0,\"#f0f921\"]],\"diverging\":[[0,\"#8e0152\"],[0.1,\"#c51b7d\"],[0.2,\"#de77ae\"],[0.3,\"#f1b6da\"],[0.4,\"#fde0ef\"],[0.5,\"#f7f7f7\"],[0.6,\"#e6f5d0\"],[0.7,\"#b8e186\"],[0.8,\"#7fbc41\"],[0.9,\"#4d9221\"],[1,\"#276419\"]]},\"xaxis\":{\"gridcolor\":\"white\",\"linecolor\":\"white\",\"ticks\":\"\",\"title\":{\"standoff\":15},\"zerolinecolor\":\"white\",\"automargin\":true,\"zerolinewidth\":2},\"yaxis\":{\"gridcolor\":\"white\",\"linecolor\":\"white\",\"ticks\":\"\",\"title\":{\"standoff\":15},\"zerolinecolor\":\"white\",\"automargin\":true,\"zerolinewidth\":2},\"scene\":{\"xaxis\":{\"backgroundcolor\":\"#E5ECF6\",\"gridcolor\":\"white\",\"linecolor\":\"white\",\"showbackground\":true,\"ticks\":\"\",\"zerolinecolor\":\"white\",\"gridwidth\":2},\"yaxis\":{\"backgroundcolor\":\"#E5ECF6\",\"gridcolor\":\"white\",\"linecolor\":\"white\",\"showbackground\":true,\"ticks\":\"\",\"zerolinecolor\":\"white\",\"gridwidth\":2},\"zaxis\":{\"backgroundcolor\":\"#E5ECF6\",\"gridcolor\":\"white\",\"linecolor\":\"white\",\"showbackground\":true,\"ticks\":\"\",\"zerolinecolor\":\"white\",\"gridwidth\":2}},\"shapedefaults\":{\"line\":{\"color\":\"#2a3f5f\"}},\"annotationdefaults\":{\"arrowcolor\":\"#2a3f5f\",\"arrowhead\":0,\"arrowwidth\":1},\"geo\":{\"bgcolor\":\"white\",\"landcolor\":\"#E5ECF6\",\"subunitcolor\":\"white\",\"showland\":true,\"showlakes\":true,\"lakecolor\":\"white\"},\"title\":{\"x\":0.05},\"mapbox\":{\"style\":\"light\"}}},\"title\":{\"text\":\"Accuracy\"},\"xaxis\":{\"title\":{\"text\":\"Epoch\"}},\"yaxis\":{\"title\":{\"text\":\"Percentage\"}}},                        {\"responsive\": true}                    ).then(function(){\n",
       "                            \n",
       "var gd = document.getElementById('8bc94719-3c43-4f56-b96a-1836e91d6b25');\n",
       "var x = new MutationObserver(function (mutations, observer) {{\n",
       "        var display = window.getComputedStyle(gd).display;\n",
       "        if (!display || display === 'none') {{\n",
       "            console.log([gd, 'removed!']);\n",
       "            Plotly.purge(gd);\n",
       "            observer.disconnect();\n",
       "        }}\n",
       "}});\n",
       "\n",
       "// Listen for the removal of the full notebook cells\n",
       "var notebookContainer = gd.closest('#notebook-container');\n",
       "if (notebookContainer) {{\n",
       "    x.observe(notebookContainer, {childList: true});\n",
       "}}\n",
       "\n",
       "// Listen for the clearing of the current output cell\n",
       "var outputEl = gd.closest('.output');\n",
       "if (outputEl) {{\n",
       "    x.observe(outputEl, {childList: true});\n",
       "}}\n",
       "\n",
       "                        })                };                });            </script>        </div>"
      ]
     },
     "metadata": {},
     "output_type": "display_data"
    }
   ],
   "source": [
    "import plotly.graph_objects as go\n",
    "fig = go.Figure()\n",
    "\n",
    "fig.add_trace(go.Scatter(x=history.epoch,\n",
    "                         y=history.history['accuracy'],\n",
    "                         mode='lines+markers',\n",
    "                         name='Training accuracy'))\n",
    "fig.add_trace(go.Scatter(x=history.epoch,\n",
    "                         y=history.history['val_accuracy'],\n",
    "                         mode='lines+markers',\n",
    "                         name='Validation accuracy'))\n",
    "fig.update_layout(title='Accuracy',\n",
    "                        xaxis=dict(title='Epoch'),\n",
    "                        yaxis=dict(title='Percentage'))\n",
    "fig.show()"
   ]
  },
  {
   "cell_type": "code",
   "execution_count": null,
   "id": "40e59cf8",
   "metadata": {
    "id": "40e59cf8"
   },
   "outputs": [],
   "source": [
    "from skimage.transform import resize "
   ]
  },
  {
   "cell_type": "markdown",
   "id": "4974cde7",
   "metadata": {
    "id": "4974cde7"
   },
   "source": [
    "## RANDOM IMAGES"
   ]
  },
  {
   "cell_type": "markdown",
   "id": "99171f66",
   "metadata": {
    "id": "99171f66"
   },
   "source": [
    "---\n",
    "### IMAGE 1\n",
    "\n",
    "---"
   ]
  },
  {
   "cell_type": "code",
   "execution_count": 1,
   "id": "df2f05e6",
   "metadata": {
    "colab": {
     "base_uri": "https://localhost:8080/",
     "height": 201
    },
    "id": "df2f05e6",
    "outputId": "db02ba2a-cc15-4118-d75c-2594dc5b7dc0"
   },
   "outputs": [
    {
     "ename": "NameError",
     "evalue": "ignored",
     "output_type": "error",
     "traceback": [
      "\u001b[0;31m---------------------------------------------------------------------------\u001b[0m",
      "\u001b[0;31mNameError\u001b[0m                                 Traceback (most recent call last)",
      "\u001b[0;32m<ipython-input-1-5a334842c8d4>\u001b[0m in \u001b[0;36m<module>\u001b[0;34m\u001b[0m\n\u001b[0;32m----> 1\u001b[0;31m \u001b[0mimage\u001b[0m \u001b[0;34m=\u001b[0m \u001b[0mplt\u001b[0m\u001b[0;34m.\u001b[0m\u001b[0mimread\u001b[0m\u001b[0;34m(\u001b[0m\u001b[0;34m\"Garbage/glass/glass2.jpg\"\u001b[0m\u001b[0;34m)\u001b[0m\u001b[0;34m\u001b[0m\u001b[0;34m\u001b[0m\u001b[0m\n\u001b[0m\u001b[1;32m      2\u001b[0m \u001b[0mimage_resized\u001b[0m \u001b[0;34m=\u001b[0m \u001b[0mresize\u001b[0m\u001b[0;34m(\u001b[0m\u001b[0mimage\u001b[0m\u001b[0;34m,\u001b[0m \u001b[0;34m(\u001b[0m\u001b[0;36m32\u001b[0m\u001b[0;34m,\u001b[0m\u001b[0;36m32\u001b[0m\u001b[0;34m)\u001b[0m\u001b[0;34m)\u001b[0m\u001b[0;34m\u001b[0m\u001b[0;34m\u001b[0m\u001b[0m\n\u001b[1;32m      3\u001b[0m \u001b[0mimg\u001b[0m \u001b[0;34m=\u001b[0m \u001b[0mplt\u001b[0m\u001b[0;34m.\u001b[0m\u001b[0mimshow\u001b[0m\u001b[0;34m(\u001b[0m\u001b[0mimage\u001b[0m\u001b[0;34m)\u001b[0m\u001b[0;34m\u001b[0m\u001b[0;34m\u001b[0m\u001b[0m\n",
      "\u001b[0;31mNameError\u001b[0m: name 'plt' is not defined"
     ]
    }
   ],
   "source": [
    "image = plt.imread(\"Garbage/glass/glass2.jpg\")\n",
    "image_resized = resize(image, (32,32))\n",
    "img = plt.imshow(image)"
   ]
  },
  {
   "cell_type": "code",
   "execution_count": null,
   "id": "527e8bd0",
   "metadata": {
    "id": "527e8bd0"
   },
   "outputs": [],
   "source": [
    "probabilities=model.predict(np.array([image_resized]))"
   ]
  },
  {
   "cell_type": "code",
   "execution_count": null,
   "id": "96738586",
   "metadata": {
    "id": "96738586"
   },
   "outputs": [],
   "source": [
    "number_to_class = ['cardboard',\\\n",
    "                   'glass',\\\n",
    "                   'metal',]"
   ]
  },
  {
   "cell_type": "code",
   "execution_count": null,
   "id": "82c20da6",
   "metadata": {
    "id": "82c20da6"
   },
   "outputs": [],
   "source": [
    "index = np.argsort(probabilities[0,:])\n",
    "print(\"Mostly likely class:\", number_to_class[index[2]], \"-- Probability\", \\\n",
    "      probabilities[0,index[2]])\n",
    "print(\"Second most likely class:\", number_to_class[index[1]], \"-- Probability\", \\\n",
    "      probabilities[0,index[1]])\n",
    "print(\"Third most likely class:\", number_to_class[index[0]], \"-- Probability\", \\\n",
    "      probabilities[0,index[0]])"
   ]
  },
  {
   "cell_type": "markdown",
   "id": "8e96cf52",
   "metadata": {
    "id": "8e96cf52"
   },
   "source": [
    "---\n",
    "### IMAGE 2\n",
    "\n",
    "---"
   ]
  },
  {
   "cell_type": "code",
   "execution_count": null,
   "id": "b2150ca4",
   "metadata": {
    "id": "b2150ca4"
   },
   "outputs": [],
   "source": [
    "image = plt.imread(\"Garbage/cardboard/cardboard101.jpg\")\n",
    "image_resized = resize(image, (32,32))\n",
    "img = plt.imshow(image)"
   ]
  },
  {
   "cell_type": "code",
   "execution_count": null,
   "id": "d86084bc",
   "metadata": {
    "id": "d86084bc"
   },
   "outputs": [],
   "source": [
    "probabilities=model.predict(np.array([image_resized]))"
   ]
  },
  {
   "cell_type": "code",
   "execution_count": null,
   "id": "3dfbb248",
   "metadata": {
    "id": "3dfbb248"
   },
   "outputs": [],
   "source": [
    "number_to_class = ['cardboard',\\\n",
    "                   'glass',\\\n",
    "                   'metal',]"
   ]
  },
  {
   "cell_type": "code",
   "execution_count": null,
   "id": "63569be7",
   "metadata": {
    "id": "63569be7"
   },
   "outputs": [],
   "source": [
    "index = np.argsort(probabilities[0,:])\n",
    "print(\"Mostly likely class:\", number_to_class[index[2]], \"-- Probability\", \\\n",
    "      probabilities[0,index[2]])\n",
    "print(\"Second most likely class:\", number_to_class[index[1]], \"-- Probability\", \\\n",
    "      probabilities[0,index[1]])\n",
    "print(\"Third most likely class:\", number_to_class[index[0]], \"-- Probability\", \\\n",
    "      probabilities[0,index[0]])"
   ]
  },
  {
   "cell_type": "markdown",
   "id": "40df84df",
   "metadata": {
    "id": "40df84df"
   },
   "source": [
    "---\n",
    "### IMAGE 3\n",
    "\n",
    "---"
   ]
  },
  {
   "cell_type": "code",
   "execution_count": null,
   "id": "81427866",
   "metadata": {
    "id": "81427866"
   },
   "outputs": [],
   "source": [
    "image = plt.imread(\"Garbage/metal/metal99.jpg\")\n",
    "image_resized = resize(image, (32,32))\n",
    "img = plt.imshow(image)"
   ]
  },
  {
   "cell_type": "code",
   "execution_count": null,
   "id": "af95d27c",
   "metadata": {
    "id": "af95d27c"
   },
   "outputs": [],
   "source": [
    "probabilities=model.predict(np.array([image_resized]))"
   ]
  },
  {
   "cell_type": "code",
   "execution_count": null,
   "id": "49df7796",
   "metadata": {
    "id": "49df7796"
   },
   "outputs": [],
   "source": [
    "number_to_class = ['cardboard',\\\n",
    "                   'glass',\\\n",
    "                   'metal',]"
   ]
  },
  {
   "cell_type": "code",
   "execution_count": null,
   "id": "7648ffdd",
   "metadata": {
    "id": "7648ffdd"
   },
   "outputs": [],
   "source": [
    "index = np.argsort(probabilities[0,:])\n",
    "print(\"Mostly likely class:\", number_to_class[index[2]], \"-- Probability\", \\\n",
    "      probabilities[0,index[2]])\n",
    "print(\"Second most likely class:\", number_to_class[index[1]], \"-- Probability\", \\\n",
    "      probabilities[0,index[1]])\n",
    "print(\"Third most likely class:\", number_to_class[index[0]], \"-- Probability\", \\\n",
    "      probabilities[0,index[0]])"
   ]
  },
  {
   "cell_type": "markdown",
   "id": "86a10061",
   "metadata": {
    "id": "86a10061"
   },
   "source": [
    "---\n",
    "### IMAGE 4\n",
    "\n",
    "---"
   ]
  },
  {
   "cell_type": "code",
   "execution_count": null,
   "id": "22a1d9d8",
   "metadata": {
    "id": "22a1d9d8"
   },
   "outputs": [],
   "source": [
    "image = plt.imread(\"Garbage/metal/metal90.jpg\")\n",
    "image_resized = resize(image, (32,32))\n",
    "img = plt.imshow(image)"
   ]
  },
  {
   "cell_type": "code",
   "execution_count": null,
   "id": "cb1ad6d8",
   "metadata": {
    "id": "cb1ad6d8"
   },
   "outputs": [],
   "source": [
    "probabilities=model.predict(np.array([image_resized]))"
   ]
  },
  {
   "cell_type": "code",
   "execution_count": null,
   "id": "bb7a6248",
   "metadata": {
    "id": "bb7a6248"
   },
   "outputs": [],
   "source": [
    "number_to_class = ['cardboard',\\\n",
    "                   'glass',\\\n",
    "                   'metal',]"
   ]
  },
  {
   "cell_type": "code",
   "execution_count": null,
   "id": "91e8388f",
   "metadata": {
    "id": "91e8388f"
   },
   "outputs": [],
   "source": [
    "index = np.argsort(probabilities[0,:])\n",
    "print(\"Mostly likely class:\", number_to_class[index[2]], \"-- Probability\", \\\n",
    "      probabilities[0,index[2]])\n",
    "print(\"Second most likely class:\", number_to_class[index[1]], \"-- Probability\", \\\n",
    "      probabilities[0,index[1]])\n",
    "print(\"Third most likely class:\", number_to_class[index[0]], \"-- Probability\", \\\n",
    "      probabilities[0,index[0]])"
   ]
  },
  {
   "cell_type": "markdown",
   "id": "a3b4c06e",
   "metadata": {
    "id": "a3b4c06e"
   },
   "source": [
    "---\n",
    "### IMAGE 5\n",
    "\n",
    "---"
   ]
  },
  {
   "cell_type": "code",
   "execution_count": null,
   "id": "49191471",
   "metadata": {
    "id": "49191471"
   },
   "outputs": [],
   "source": [
    "image = plt.imread(\"Garbage/cardboard/cardboard400.jpg\")\n",
    "image_resized = resize(image, (32,32))\n",
    "img = plt.imshow(image)"
   ]
  },
  {
   "cell_type": "code",
   "execution_count": null,
   "id": "8ce5ebe6",
   "metadata": {
    "id": "8ce5ebe6"
   },
   "outputs": [],
   "source": [
    "probabilities=model.predict(np.array([image_resized]))"
   ]
  },
  {
   "cell_type": "code",
   "execution_count": null,
   "id": "31cc3567",
   "metadata": {
    "id": "31cc3567"
   },
   "outputs": [],
   "source": [
    "number_to_class = ['cardboard',\\\n",
    "                   'glass',\\\n",
    "                   'metal',]"
   ]
  },
  {
   "cell_type": "code",
   "execution_count": null,
   "id": "4ae6ea64",
   "metadata": {
    "id": "4ae6ea64"
   },
   "outputs": [],
   "source": [
    "index = np.argsort(probabilities[0,:])\n",
    "print(\"Mostly likely class:\", number_to_class[index[2]], \"-- Probability\", \\\n",
    "      probabilities[0,index[2]])\n",
    "print(\"Second most likely class:\", number_to_class[index[1]], \"-- Probability\", \\\n",
    "      probabilities[0,index[1]])\n",
    "print(\"Third most likely class:\", number_to_class[index[0]], \"-- Probability\", \\\n",
    "      probabilities[0,index[0]])"
   ]
  },
  {
   "cell_type": "code",
   "execution_count": null,
   "id": "7ab77a23",
   "metadata": {
    "id": "7ab77a23"
   },
   "outputs": [],
   "source": []
  },
  {
   "cell_type": "code",
   "execution_count": null,
   "id": "2dd2af32",
   "metadata": {
    "id": "2dd2af32"
   },
   "outputs": [],
   "source": []
  },
  {
   "cell_type": "markdown",
   "id": "gwoKfcxLcvac",
   "metadata": {
    "id": "gwoKfcxLcvac"
   },
   "source": [
    "\n",
    "\n",
    "> Member's Contribution:\n",
    "\n",
    "*   Marquez, Jennifer C.   - *Coding, Documentation, Images Collection*\n",
    "*   MArtinez, Rikki Mae M. - *Coding, Documentation, Images Collection*\n",
    "*   Rario, Marianne C.     - *Coding, Documentation, Images Collection*\n",
    "\n",
    "\n",
    "\n",
    "\n"
   ]
  }
 ],
 "metadata": {
  "colab": {
   "collapsed_sections": [
    "99171f66",
    "8e96cf52",
    "40df84df",
    "86a10061",
    "a3b4c06e"
   ],
   "provenance": []
  },
  "kernelspec": {
   "display_name": "Python 3 (ipykernel)",
   "language": "python",
   "name": "python3"
  },
  "language_info": {
   "codemirror_mode": {
    "name": "ipython",
    "version": 3
   },
   "file_extension": ".py",
   "mimetype": "text/x-python",
   "name": "python",
   "nbconvert_exporter": "python",
   "pygments_lexer": "ipython3",
   "version": "3.10.7"
  }
 },
 "nbformat": 4,
 "nbformat_minor": 5
}
